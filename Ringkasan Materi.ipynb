{
 "cells": [
  {
   "cell_type": "markdown",
   "id": "1659ee55-dd0d-4f92-8f9f-09beb93a7dae",
   "metadata": {},
   "source": [
    "# Algoritma Pemrograman"
   ]
  },
  {
   "cell_type": "markdown",
   "id": "0dffbff1-fbf1-46f5-865d-afe0eb66512e",
   "metadata": {},
   "source": [
    "Algoritma pemrograman adalah langkah-langkah atau instruksi logis yang dirancang untuk menyelesaikan masalah tertentu atau mencapai tujuan tertentu dalam proses pemrograman. Algoritma ini digunakan sebagai dasar untuk menulis kode dalam bahasa pemrograman apa pun, termasuk bahasa phyton. Adapun rangkuman materi algoritma pemrograman selama semester 1 sebagai berikut:"
   ]
  },
  {
   "cell_type": "markdown",
   "id": "982f2923-5070-4705-933f-e662dc8b37ee",
   "metadata": {},
   "source": [
    "### Print"
   ]
  },
  {
   "cell_type": "markdown",
   "id": "ae4f271c-9020-462f-9577-44f8113bee4a",
   "metadata": {},
   "source": [
    "Fungsi `print()` adalah salah satu fungsi bawaan Python yang digunakan untuk menampilkan output ke layar."
   ]
  },
  {
   "cell_type": "code",
   "execution_count": 23,
   "id": "d0e88b9f-e902-4010-a700-1799b7c5e445",
   "metadata": {},
   "outputs": [
    {
     "name": "stdout",
     "output_type": "stream",
     "text": [
      "Halo, Faza!\n",
      "Hasil Perkalian 5 * 3 adalah: 15\n",
      "Nama saya Faza dan usia saya 18 tahun.\n"
     ]
    }
   ],
   "source": [
    "# Menampilkan Teks dan Angka\n",
    "print(\"Halo, Faza!\")\n",
    "print(\"Hasil Perkalian 5 * 3 adalah:\", 5 * 3)\n",
    "\n",
    "# Menampilkan Variabel dan f-string\n",
    "nama = \"Faza\"\n",
    "usia = 18\n",
    "print(f\"Nama saya {nama} dan usia saya {usia} tahun.\")"
   ]
  },
  {
   "cell_type": "markdown",
   "id": "09fe5131-c87c-4c94-8c63-8078bef1d84a",
   "metadata": {},
   "source": [
    "### Input & Output"
   ]
  },
  {
   "cell_type": "markdown",
   "id": "8db4042f-451c-4741-bcfc-7cfcbb6392b3",
   "metadata": {},
   "source": [
    "Input dan Output (I/O) adalah dua konsep dasar dalam pemrograman yang merujuk pada proses menerima data `input()` dan memberikan hasil `output()`.  I/O memungkinkan program berinteraksi dengan pengguna atau sistem lainnya."
   ]
  },
  {
   "cell_type": "code",
   "execution_count": 119,
   "id": "407ad292-7efe-4861-b1e7-44d31b69dee8",
   "metadata": {},
   "outputs": [
    {
     "name": "stdin",
     "output_type": "stream",
     "text": [
      "Masukkan nama Anda:  Faza\n"
     ]
    },
    {
     "name": "stdout",
     "output_type": "stream",
     "text": [
      "Hello, Faza!\n"
     ]
    }
   ],
   "source": [
    "# Meminta pengguna memasukkan nama\n",
    "nama = input(\"Masukkan nama Anda: \")\n",
    "print(f\"Hello, {nama}!\")"
   ]
  },
  {
   "cell_type": "markdown",
   "id": "81b419c3-de72-4fcf-8edd-9d15f2483501",
   "metadata": {},
   "source": [
    "### Tipe Data "
   ]
  },
  {
   "cell_type": "markdown",
   "id": "4e22e83a-e886-4a7b-b82e-1d4d3a69cd71",
   "metadata": {},
   "source": [
    "Python memiliki berbagai tipe data bawaan untuk menyimpan berbagai jenis nilai.\n",
    "\n",
    "a. Tipe Data Dasar\n",
    "\n",
    "##### Integer (`int`): Angka bulat.\n",
    "Contoh: `1`, `-2`\n",
    "##### Float (`float`): Angka desimal.\n",
    "Contoh: `3.14`\n",
    "##### String (`str`): Teks.\n",
    "Contoh: \"`Hello, Faza!\"`, `'Logika'`\n",
    "##### Boolean (`bool`): Nilai logika.\n",
    "Contoh: `True`, `False`"
   ]
  },
  {
   "cell_type": "code",
   "execution_count": 79,
   "id": "ffd42f7d-b53b-4394-aff3-f53f9680390f",
   "metadata": {},
   "outputs": [
    {
     "name": "stdout",
     "output_type": "stream",
     "text": [
      "Tipe Data Dasar:\n",
      "Angka: 1 (tipe: <class 'int'>)\n",
      "Desimal: 3.14 (tipe: <class 'float'>)\n",
      "Teks: Halo, Faza! (tipe: <class 'str'>)\n",
      "Logika: True (tipe: <class 'bool'>)\n"
     ]
    }
   ],
   "source": [
    "# Contoh Tipe Data Dasar\n",
    "angka = 1         # int\n",
    "desimal = 3.14     # float\n",
    "teks = \"Halo, Faza!\"  # str\n",
    "logika = True      # bool\n",
    "\n",
    "print(\"Tipe Data Dasar:\")\n",
    "print(f\"Angka: {angka} (tipe: {type(angka)})\")\n",
    "print(f\"Desimal: {desimal} (tipe: {type(desimal)})\")\n",
    "print(f\"Teks: {teks} (tipe: {type(teks)})\")\n",
    "print(f\"Logika: {logika} (tipe: {type(logika)})\")"
   ]
  },
  {
   "cell_type": "markdown",
   "id": "443ac88e-b704-4b4d-9f2b-8bf173d91eca",
   "metadata": {},
   "source": [
    "b. Tipe Data Koleksi\n",
    "\n",
    "##### `List`: Koleksi data yang terurut dan dapat diubah.\n",
    "Contoh: `[1, 2, 3]`\n",
    "##### `Tuple`: Koleksi data yang terurut tetapi tidak dapat diubah.\n",
    "Contoh: `('4', '5', '6')`\n",
    "##### Dictionary (`dict`): Koleksi pasangan kunci dan nilai.\n",
    "Contoh: `{\"nama\": \"Faza\", \"usia\": 18}`\n",
    "##### `Set`: Koleksi data unik yang tidak terurut.\n",
    "Contoh: `{1, 4, 3}, {3, 1, 4}`"
   ]
  },
  {
   "cell_type": "code",
   "execution_count": 108,
   "id": "485ce5d6-24e6-41fa-a3fc-3d2bf2989508",
   "metadata": {},
   "outputs": [
    {
     "name": "stdout",
     "output_type": "stream",
     "text": [
      "Tipe Data Koleksi:\n",
      "List: [1, 2, 3]\n",
      "Tuple: (4, 5, 6)\n",
      "Dictionary: {'nama': 'Faza', 'usia': 25}\n",
      "Set: {8, 9, 7}\n"
     ]
    }
   ],
   "source": [
    "# Contoh Tipe Data Koleksi\n",
    "list_data = [1, 2, 3]\n",
    "tuple_data = (4, 5, 6)\n",
    "dict_data = {\"nama\": \"Faza\", \"usia\": 25}\n",
    "set_data = {7, 8, 9}\n",
    "\n",
    "print(\"Tipe Data Koleksi:\")\n",
    "print(f\"List: {list_data}\")\n",
    "print(f\"Tuple: {tuple_data}\")\n",
    "print(f\"Dictionary: {dict_data}\")\n",
    "print(f\"Set: {set_data}\")"
   ]
  },
  {
   "cell_type": "markdown",
   "id": "9a3a4bf9-9c94-4a75-8495-9988c3dfcb34",
   "metadata": {},
   "source": [
    "### Operator dalam Phyton"
   ]
  },
  {
   "cell_type": "markdown",
   "id": "f5109cf6-ed83-45d9-ae90-76a344586b3b",
   "metadata": {},
   "source": [
    "a. Operator Aritmatika (Digunakan untuk operasi matematika)\n",
    "\n",
    "`+` (Penjumlahan) : `a + b`\n",
    "\n",
    "`-` (Pengurangan) : `a - b`\n",
    "\n",
    "`*` (Perkalian)   : `a * b`\n",
    "\n",
    "`/` (Pembagian)   : `a / b`\n",
    "\n",
    "`//`(Pembagian bulat)   : `a // b`\n",
    "\n",
    "`%` (Modulus)     : `a % b`\n",
    "\n",
    "`**`(Pangkat)     : `a ** b`"
   ]
  },
  {
   "cell_type": "code",
   "execution_count": 152,
   "id": "774dcd56-f18e-455a-9a6b-1a0fa524e1b3",
   "metadata": {},
   "outputs": [
    {
     "name": "stdout",
     "output_type": "stream",
     "text": [
      "Operator Aritmatika:\n",
      "Penjumlahan: 15 + 4 = 19\n",
      "Pengurangan: 15 - 4 = 11\n",
      "Perkalian: 15 * 4 = 60\n",
      "Pembagian: 15 / 4 = 3.75\n",
      "Pembagian Bulat: 15 // 4 = 3\n",
      "Modulus: 15 % 4 = 3\n",
      "Pangkat: 15 ** 4 = 50625\n"
     ]
    }
   ],
   "source": [
    "# Contoh Operator Aritmatika\n",
    "a = 15\n",
    "b = 4\n",
    "\n",
    "print(\"Operator Aritmatika:\")\n",
    "print(f\"Penjumlahan: {a} + {b} = {a + b}\")\n",
    "print(f\"Pengurangan: {a} - {b} = {a - b}\")\n",
    "print(f\"Perkalian: {a} * {b} = {a * b}\")\n",
    "print(f\"Pembagian: {a} / {b} = {a / b}\")\n",
    "print(f\"Pembagian Bulat: {a} // {b} = {a // b}\")\n",
    "print(f\"Modulus: {a} % {b} = {a % b}\")\n",
    "print(f\"Pangkat: {a} ** {b} = {a ** b}\") "
   ]
  },
  {
   "cell_type": "markdown",
   "id": "da351277-73be-4bbe-b228-6dcc16a31dcb",
   "metadata": {},
   "source": [
    "b. Operator Perbandingan (Digunakan untuk membandingkan dua nilai)\n",
    "\n",
    "`==` (Sama dengan)\n",
    "\n",
    "`!=` (Tidak sama dengan)\n",
    "\n",
    "`>` (Lebih besar)\n",
    "\n",
    "`<` (Lebih kecil)\n",
    "\n",
    "`>=` (Lebih besar atau sama dengan)\n",
    "\n",
    "`<=` (Lebih kecil atau sama dengan)"
   ]
  },
  {
   "cell_type": "code",
   "execution_count": 135,
   "id": "f2827df8-02d4-496e-be8b-7d27998a6e44",
   "metadata": {},
   "outputs": [
    {
     "name": "stdout",
     "output_type": "stream",
     "text": [
      "Operator Perbandingan:\n",
      "15 == 4: False\n",
      "15 != 4: True\n",
      "15 > 4: True\n",
      "15 < 4: False\n",
      "15 >= 4: True\n",
      "15 <= 4: False\n"
     ]
    }
   ],
   "source": [
    "# Contoh Operator Perbandingan\n",
    "a = 15\n",
    "b = 4\n",
    "\n",
    "print(\"Operator Perbandingan:\")\n",
    "print(f\"{a} == {b}: {a == b}\")\n",
    "print(f\"{a} != {b}: {a != b}\")\n",
    "print(f\"{a} > {b}: {a > b}\")\n",
    "print(f\"{a} < {b}: {a < b}\")\n",
    "print(f\"{a} >= {b}: {a >= b}\")\n",
    "print(f\"{a} <= {b}: {a <= b}\")"
   ]
  },
  {
   "cell_type": "markdown",
   "id": "682f60c8-9498-4384-8406-bbf7cb407ecd",
   "metadata": {},
   "source": [
    "b. Operator Logika (Digunakan untuk operasi logika)\n",
    "\n",
    "`and` (logika AND)\n",
    "\n",
    "`or` (logika ATAU)\n",
    "\n",
    "`not` (logika TIDAK)"
   ]
  },
  {
   "cell_type": "code",
   "execution_count": 110,
   "id": "ed90bc3b-fb5b-43fe-9600-f7517809578b",
   "metadata": {},
   "outputs": [
    {
     "name": "stdout",
     "output_type": "stream",
     "text": [
      "Operator Logika:\n",
      "x AND y: False\n",
      "x OR y: True\n",
      "NOT x: False\n"
     ]
    }
   ],
   "source": [
    "# Contoh Operator Logika\n",
    "print(\"Operator Logika:\")\n",
    "x = True\n",
    "y = False\n",
    "print(f\"x AND y: {x and y}\")\n",
    "print(f\"x OR y: {x or y}\")\n",
    "print(f\"NOT x: {not x}\")"
   ]
  },
  {
   "cell_type": "markdown",
   "id": "06807ac8-f9e7-4bbe-ac59-915e64b4635c",
   "metadata": {},
   "source": [
    "### Ekspresi Persamaan Matematika"
   ]
  },
  {
   "cell_type": "markdown",
   "id": "18b3d13d-d322-4813-b572-c719ddb2f487",
   "metadata": {},
   "source": [
    "Python menyediakan berbagai operator dan fungsi bawaan untuk menangani persamaan dan ekspresi matematika. Ekspresi ini digunakan untuk melakukan operasi matematika seperti penjumlahan, pengurangan, perkalian, pembagian, hingga perhitungan kompleks. Dan Python mengikuti aturan prioritas operator dalam evaluasi ekspresi matematika:\n",
    "\n",
    "1. Pangkat (`**`)\n",
    "\n",
    "2. Perkalian (`*`), Pembagian (`/`, `//`), Modulus (`%`)\n",
    "\n",
    "3. Penjumlahan (`+`) dan Pengurangan (`-`)"
   ]
  },
  {
   "cell_type": "code",
   "execution_count": 8,
   "id": "4791a461-16b4-4976-8b4e-1986b580e87b",
   "metadata": {},
   "outputs": [
    {
     "name": "stdout",
     "output_type": "stream",
     "text": [
      "21.0\n"
     ]
    }
   ],
   "source": [
    "# Contoh Prioritas Operator (Precedence)\n",
    "# Perhitungan: 5 + (2 * (3 ** 2)) - (4 / 2)\n",
    "hasil = 5 + 2 * 3 ** 2 - 4 / 2\n",
    "print(hasil)"
   ]
  },
  {
   "cell_type": "markdown",
   "id": "7244c7e6-fe16-4111-a34f-50396e6d5ded",
   "metadata": {},
   "source": [
    "Fungsi Matematika Bawaan\n",
    "\n",
    "Python menyediakan fungsi matematika tambahan melalui modul `math`\n",
    "\n",
    "Contoh Fungsi \n",
    "\n",
    "`math.sqrt(x)` : Menghitung akar kuadrat \n",
    "\n",
    "`math.pow(x,y)` : Pangkat (`x` pangkat `y`)\n",
    "\n",
    "`math.sin(x)` : Sinus (radian)\n",
    "\n",
    "`math.cos (s)` : Cosinus (radian)\n",
    "\n",
    "`math.log (x, base)` : Logaritma dengan basis tertentu (default: basis `e`)"
   ]
  },
  {
   "cell_type": "code",
   "execution_count": 14,
   "id": "41e47a88-d96b-4b71-9abc-1a0f96c8e16c",
   "metadata": {},
   "outputs": [
    {
     "name": "stdout",
     "output_type": "stream",
     "text": [
      "Akar kuadrat: 4.0\n",
      "Sinus 90 derajat: 1.0\n",
      "Logaritma basis 10: 2.0\n"
     ]
    }
   ],
   "source": [
    "# Contoh  Fungsi Matematika Bawaan \n",
    "import math\n",
    "\n",
    "angka = 16\n",
    "print(\"Akar kuadrat:\", math.sqrt(angka))  # Hasil: 4.0\n",
    "print(\"Sinus 90 derajat:\", math.sin(math.radians(90)))  # Hasil: 1.0\n",
    "print(\"Logaritma basis 10:\", math.log10(100))  # Hasil: 2.0"
   ]
  },
  {
   "cell_type": "markdown",
   "id": "52d6b3d0-cdd9-43f2-a3be-1d10285dcc96",
   "metadata": {},
   "source": [
    "### Percabangan "
   ]
  },
  {
   "cell_type": "markdown",
   "id": "7dff6dd1-c55b-4e2c-a286-d4b26653f279",
   "metadata": {},
   "source": [
    "Percabangan biasanya digunakan dengan kata kunci seperti ini:\n",
    "\n",
    "1. `if` : Untuk memeriksa kondisi\n",
    "\n",
    "2. `elif` (else if) : Untuk memerikasa kondisi lain jika kondisi sebelumnya salah \n",
    "\n",
    "3. `else` : Untuk mengeksekusi kode ketika semua kondisi sebelumnya salah"
   ]
  },
  {
   "cell_type": "markdown",
   "id": "099e01e5-9e3e-4c11-a374-cae5e954aba7",
   "metadata": {},
   "source": [
    "#### Perintah `If`\n",
    "\n",
    "Perintah `if` digunakan untuk melakukan suatu tindakan jika kondisi tertentu terpenuhi."
   ]
  },
  {
   "cell_type": "code",
   "execution_count": 36,
   "id": "8bc3ed80-1502-48bc-a9c0-96e9b7555275",
   "metadata": {},
   "outputs": [
    {
     "name": "stdout",
     "output_type": "stream",
     "text": [
      "Bilangan genap\n"
     ]
    }
   ],
   "source": [
    "# Contoh Perintah If \n",
    "# Menentukan apakah bilangan ganjil atau genap\n",
    "\n",
    "bil = 20\n",
    "\n",
    "if bil % 2 == 0:\n",
    "    print(\"Bilangan genap\")\n",
    "else:\n",
    "    print(\"Bilangan ganjil\")"
   ]
  },
  {
   "cell_type": "markdown",
   "id": "0d6efcd5-9359-4a5d-bf12-a85903024ff4",
   "metadata": {},
   "source": [
    "Penjelasan \n",
    "\n",
    "1. `bil % 2 == 0` adalah kondisi yang akan diuji\n",
    "   \n",
    "2. `bil == 2` adalah tindakan yang akan dilakukan jika kondisi terpenuhi\n",
    "   \n",
    "3. `else` adalah kata kunci untuk memulai blok kode yang akan dijalankan jika kondisi tidak terpenuhi\n",
    "\n",
    "4. `print(\"Bilangan ganjil\")` adalah tindakan yang akan dilakukan jika kondisi tidak terpenuhi"
   ]
  },
  {
   "cell_type": "markdown",
   "id": "26470027-f7d9-48ae-9751-2c08c194e62f",
   "metadata": {},
   "source": [
    "#### Pernyataan If Bertingkat"
   ]
  },
  {
   "cell_type": "code",
   "execution_count": 25,
   "id": "039cdbdb-a596-42e9-b4a9-5cec8b7dec9b",
   "metadata": {},
   "outputs": [
    {
     "name": "stdout",
     "output_type": "stream",
     "text": [
      "Grade: B\n"
     ]
    }
   ],
   "source": [
    "# Contoh Pernyataan If Bertingkat\n",
    "nilai = 75\n",
    "\n",
    "if nilai >= 90:\n",
    "    print(\"Grade: A\")\n",
    "elif nilai >= 75:\n",
    "    print(\"Grade: B\")\n",
    "else:\n",
    "    print(\"Grade: C\")"
   ]
  },
  {
   "cell_type": "markdown",
   "id": "566dffdc-3d3c-4b8e-97c0-692a4008e9ce",
   "metadata": {},
   "source": [
    "Penjelasan\n",
    "\n",
    "1. Jika `nilai` lebih besar atau sama dengan 90, program mencetak `Grade: A`\n",
    "\n",
    "2. Jika `nilai` lebih besar atau sama dengan 75 tetapi kurang dari 90, program mencetak `Grade: B`\n",
    "\n",
    "3. Jika `nilai` kurang dari 75, program mencetak `Grade: C`"
   ]
  },
  {
   "cell_type": "markdown",
   "id": "f46f7204-4ca3-4db5-a38d-2be45967f681",
   "metadata": {},
   "source": [
    "#### Pernyataan If Bersarang (Nested)"
   ]
  },
  {
   "cell_type": "code",
   "execution_count": 49,
   "id": "9db28be2-d751-4b6c-a8e4-a6e01d209225",
   "metadata": {},
   "outputs": [
    {
     "name": "stdin",
     "output_type": "stream",
     "text": [
      "Masukkan sebuah angka:  1\n"
     ]
    },
    {
     "name": "stdout",
     "output_type": "stream",
     "text": [
      "Angka positif dan ganjil.\n"
     ]
    }
   ],
   "source": [
    "# Contoh Pernyataan If Nested\n",
    "angka = int(input(\"Masukkan sebuah angka: \"))\n",
    "\n",
    "if angka > 0:\n",
    "    if angka % 2 == 0:\n",
    "        print(\"Angka positif dan genap.\")\n",
    "    else:\n",
    "        print(\"Angka positif dan ganjil.\")\n",
    "else:\n",
    "    print(\"Angka tidak positif.\")\n"
   ]
  },
  {
   "cell_type": "markdown",
   "id": "957dd09f-cdc3-40e3-932f-977770f306c8",
   "metadata": {},
   "source": [
    "Penjelasan\n",
    "\n",
    "1. Program memeriksa apakah `angka positif`\n",
    "\n",
    "2. Jika `positif`, program memeriksa apakah `angka genap` atau `ganjil`\n",
    "   \n",
    "3. Jika `tidak positif`, program mencetak bahwa angka tersebut `tidak positif`"
   ]
  },
  {
   "cell_type": "markdown",
   "id": "ab8b37a0-3cdb-48ec-8e43-9d7ab8f4ab91",
   "metadata": {},
   "source": [
    "### Perulangan (Looping)"
   ]
  },
  {
   "cell_type": "markdown",
   "id": "8d6ad148-fd21-4297-bb70-b3978a14b85d",
   "metadata": {},
   "source": [
    "Perulangan adalah struktur kontrol yang memungkinkan kita menjalankan suatu blok kode berulang kali. Perulangan sangat berguna untuk mengurangi duplikasi kode ketika kita ingin mengulangi tugas tertentu. Adapun jenis perulangan utama dalam phyton sebagai berikut :\n",
    "\n",
    "1. `for loop` : Digunakan untuk mengiterasi elemen dalam koleksi (list, tuple, string, dll.) atau rentang nilai tertentu\n",
    "\n",
    "2. `while loop` : Digunakan untuk menjalankan blok kode selama suatu kondisi bernilai True"
   ]
  },
  {
   "cell_type": "markdown",
   "id": "8d73975f-0f22-41f9-ac91-039ebedccd25",
   "metadata": {},
   "source": [
    "#### Perulangan `for`"
   ]
  },
  {
   "cell_type": "markdown",
   "id": "ad393bf0-34d9-42ca-bf13-a6b613fde28a",
   "metadata": {},
   "source": [
    "`for` variabel `in` iterable:\n",
    "\n",
    "    # Blok kode\n",
    "\n",
    "Penjelasan :\n",
    "\n",
    "1. `iterable` : Koleksi data seperti list, tuple, string, atau range\n",
    "   \n",
    "2. `variabel` : Elemen dari koleksi yang diakses satu per satu"
   ]
  },
  {
   "cell_type": "code",
   "execution_count": 75,
   "id": "226ad63e-97cb-498a-bcf5-6cc8e1c357b5",
   "metadata": {},
   "outputs": [
    {
     "name": "stdout",
     "output_type": "stream",
     "text": [
      "Angka: 1\n",
      "Angka: 2\n",
      "Angka: 3\n",
      "Angka: 4\n",
      "Angka: 5\n",
      "Nilai i: 1\n",
      "Nilai i: 2\n",
      "Nilai i: 3\n",
      "Nilai i: 4\n",
      "Nilai i: 5\n"
     ]
    }
   ],
   "source": [
    "# Contoh Perulangan For\n",
    "\n",
    "# Mengiterasi list\n",
    "angka = [1, 2, 3, 4, 5]\n",
    "for num in angka:\n",
    "    print(f\"Angka: {num}\")\n",
    "    \n",
    "# Menggunakan range()\n",
    "for i in range(1, 6):\n",
    "    print(f\"Nilai i: {i}\")"
   ]
  },
  {
   "cell_type": "markdown",
   "id": "4ea9ad0f-0e18-4573-b750-cbf2dc452b9c",
   "metadata": {},
   "source": [
    "#### Perulangan `while`"
   ]
  },
  {
   "cell_type": "markdown",
   "id": "2ca760ff-c188-4030-8eed-d21265ee2f18",
   "metadata": {},
   "source": [
    "while `kondisi`:\n",
    "\n",
    "    # Blok kode\n",
    "\n",
    "`Kondisi` : Dievaluasi sebelum setiap iterasi. Jika `True`, blok kode dijalankan. \n",
    "Jika `False`, perulangan berhenti"
   ]
  },
  {
   "cell_type": "code",
   "execution_count": 82,
   "id": "dd017001-401d-4011-9337-f5a1c0f1db17",
   "metadata": {},
   "outputs": [
    {
     "name": "stdout",
     "output_type": "stream",
     "text": [
      "Nilai i: 1\n",
      "Nilai i: 2\n",
      "Nilai i: 3\n",
      "Nilai i: 4\n",
      "Nilai i: 5\n"
     ]
    }
   ],
   "source": [
    "# Contoh Perulangan While\n",
    "i = 1\n",
    "while i <= 5:\n",
    "    print(f\"Nilai i: {i}\")\n",
    "    i += 1  # Increment"
   ]
  },
  {
   "cell_type": "markdown",
   "id": "9fc33fb7-9a04-4729-b300-26a160f9bf38",
   "metadata": {},
   "source": [
    "#### Perintah Kontrol Perulangan"
   ]
  },
  {
   "cell_type": "markdown",
   "id": "20e0144f-ff8b-4eb9-8984-0361613a1580",
   "metadata": {},
   "source": [
    "Python menyediakan beberapa perintah untuk mengontrol perulangan:\n",
    "\n",
    "1. `break` : Menghentikan perulangan secara paksa\n",
    "   \n",
    "2. `continue` : Melewati iterasi saat ini dan lanjut ke iterasi berikutnya\n",
    "\n",
    "3. `else` : Dijalankan setelah perulangan selesai, kecuali jika dihentikan oleh `break`"
   ]
  },
  {
   "cell_type": "code",
   "execution_count": 92,
   "id": "0a823784-0276-4062-92d5-4e8445c8b921",
   "metadata": {},
   "outputs": [
    {
     "name": "stdout",
     "output_type": "stream",
     "text": [
      "1\n",
      "2\n",
      "3\n",
      "4\n",
      "1\n",
      "2\n",
      "3\n",
      "4\n",
      "6\n",
      "7\n",
      "8\n",
      "9\n"
     ]
    }
   ],
   "source": [
    "# Contoh break dan continue\n",
    "\n",
    "# Menghentikan perulangan dengan break\n",
    "for i in range(1, 10):\n",
    "    if i == 5:\n",
    "        break\n",
    "    print(i)  # Output: 1, 2, 3, 4\n",
    "\n",
    "# Melewati iterasi dengan continue\n",
    "for i in range(1, 10):\n",
    "    if i == 5:\n",
    "        continue\n",
    "    print(i)  # Output: 1, 2, 3, 4, 6, 7, 8, 9\n"
   ]
  },
  {
   "cell_type": "code",
   "execution_count": 94,
   "id": "3d7a17b7-da28-4aa2-a9c3-25ea7318b191",
   "metadata": {},
   "outputs": [
    {
     "name": "stdout",
     "output_type": "stream",
     "text": [
      "1\n",
      "2\n",
      "3\n",
      "4\n",
      "Perulangan selesai!\n"
     ]
    }
   ],
   "source": [
    "# Contoh else dengan perulangan\n",
    "for i in range(1, 5):\n",
    "    print(i)\n",
    "else:\n",
    "    print(\"Perulangan selesai!\")  # Dijalankan karena tidak ada break"
   ]
  },
  {
   "cell_type": "markdown",
   "id": "7aadf464-3581-469c-8d76-5723057c12bf",
   "metadata": {},
   "source": [
    "#### Contoh Program Perulangan Lengkap"
   ]
  },
  {
   "cell_type": "code",
   "execution_count": 102,
   "id": "97e56a4f-7435-4b99-b5b2-062e28f48454",
   "metadata": {},
   "outputs": [
    {
     "name": "stdin",
     "output_type": "stream",
     "text": [
      "Masukkan angka:  2\n"
     ]
    },
    {
     "name": "stdout",
     "output_type": "stream",
     "text": [
      "2 x 1 = 2\n",
      "2 x 2 = 4\n",
      "2 x 3 = 6\n",
      "2 x 4 = 8\n",
      "2 x 5 = 10\n",
      "2 x 6 = 12\n",
      "2 x 7 = 14\n",
      "2 x 8 = 16\n",
      "2 x 9 = 18\n",
      "2 x 10 = 20\n"
     ]
    }
   ],
   "source": [
    "# Perulangan dengan For\n",
    "angka = int(input(\"Masukkan angka: \"))\n",
    "for i in range(1, 11):\n",
    "    print(f\"{angka} x {i} = {angka * i}\")"
   ]
  },
  {
   "cell_type": "code",
   "execution_count": 104,
   "id": "261540d6-a08c-4e58-8fdd-32e96b98e701",
   "metadata": {},
   "outputs": [
    {
     "name": "stdin",
     "output_type": "stream",
     "text": [
      "Tebak angka (1-10):  11\n"
     ]
    },
    {
     "name": "stdout",
     "output_type": "stream",
     "text": [
      "Terlalu besar!\n"
     ]
    },
    {
     "name": "stdin",
     "output_type": "stream",
     "text": [
      "Tebak angka (1-10):  10\n"
     ]
    },
    {
     "name": "stdout",
     "output_type": "stream",
     "text": [
      "Terlalu besar!\n"
     ]
    },
    {
     "name": "stdin",
     "output_type": "stream",
     "text": [
      "Tebak angka (1-10):  8\n"
     ]
    },
    {
     "name": "stdout",
     "output_type": "stream",
     "text": [
      "Tebakan Anda benar!\n"
     ]
    }
   ],
   "source": [
    "# Perulangan dengan While\n",
    "import random\n",
    "\n",
    "angka_rahasia = random.randint(1, 10)\n",
    "tebakan = 0\n",
    "\n",
    "while tebakan != angka_rahasia:\n",
    "    tebakan = int(input(\"Tebak angka (1-10): \"))\n",
    "    if tebakan < angka_rahasia:\n",
    "        print(\"Terlalu kecil!\")\n",
    "    elif tebakan > angka_rahasia:\n",
    "        print(\"Terlalu besar!\")\n",
    "    else:\n",
    "        print(\"Tebakan Anda benar!\")"
   ]
  }
 ],
 "metadata": {
  "kernelspec": {
   "display_name": "Python 3 (ipykernel)",
   "language": "python",
   "name": "python3"
  },
  "language_info": {
   "codemirror_mode": {
    "name": "ipython",
    "version": 3
   },
   "file_extension": ".py",
   "mimetype": "text/x-python",
   "name": "python",
   "nbconvert_exporter": "python",
   "pygments_lexer": "ipython3",
   "version": "3.12.4"
  }
 },
 "nbformat": 4,
 "nbformat_minor": 5
}
